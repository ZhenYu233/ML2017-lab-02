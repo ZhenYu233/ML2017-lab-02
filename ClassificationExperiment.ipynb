#导入相应包
from sklearn.datasets import load_svmlight_file
from sklearn.model_selection import train_test_split
import numpy as np
import matplotlib.pyplot as plt
#读取相应数据
data,label=load_svmlight_file('a9a.t')
data = data.todense()

#切分数据
feature_train,feature_val,label_train,label_val = train_test_split(data,label,test_size=0.25, random_state=42)

#右边加上一列0
b = np.zeros(12210)  #得到的是列矩阵
feature_train = np.column_stack((feature_train,b))
b = np.zeros(4071)
feature_val = np.column_stack((feature_val,b))

#随机初始化参数
w = np.random.random(size=(1,feature_train.shape[1]))

#构造loss函数
